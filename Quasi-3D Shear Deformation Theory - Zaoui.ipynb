{
 "cells": [
  {
   "cell_type": "code",
   "execution_count": 1,
   "id": "a276c9a8",
   "metadata": {},
   "outputs": [],
   "source": [
    "from sympy import *\n",
    "from IPython.display import display"
   ]
  },
  {
   "cell_type": "code",
   "execution_count": 2,
   "id": "95d45831",
   "metadata": {},
   "outputs": [],
   "source": [
    "a, b, h = symbols(\"a b h\") #a->width b->length h->height\n",
    "x, y, z = symbols(\"x y z\")\n",
    "m, n = symbols(\"m n\")\n",
    "ALPHA = m*pi/a\n",
    "BETHA = m*pi/b\n",
    "\n",
    "k1 = ALPHA**2\n",
    "k2 = BETHA**2\n",
    "\n",
    "A_Prime = -1/(ALPHA**2)\n",
    "B_Prime = -1/(BETHA**2)"
   ]
  },
  {
   "cell_type": "code",
   "execution_count": 3,
   "id": "49ca8751",
   "metadata": {},
   "outputs": [],
   "source": [
    "Ni = Function(\"Ni\")(x)\n",
    "Fi = Function(\"Fi\")(x)\n",
    "Hi = Function(\"Hi\")(x)\n",
    "S = Function(\"S\")(y)\n",
    "C = Function(\"C\")(y)\n",
    "f = Function('f')(z)\n",
    "g = integrate(f, z)"
   ]
  },
  {
   "cell_type": "code",
   "execution_count": 4,
   "id": "74fa5b66",
   "metadata": {},
   "outputs": [],
   "source": [
    "U_ij, V_ij, W_ij, THETA_ij, PHI_ij = symbols(\"U_ij V_ij W_ij THETA_ij PHI_ij\")"
   ]
  },
  {
   "cell_type": "code",
   "execution_count": 5,
   "id": "d2aff098",
   "metadata": {},
   "outputs": [
    {
     "name": "stdout",
     "output_type": "stream",
     "text": [
      "U0 = \n"
     ]
    },
    {
     "data": {
      "text/latex": [
       "$\\displaystyle U_{ij} \\operatorname{Ni}{\\left(x \\right)} S{\\left(y \\right)}$"
      ],
      "text/plain": [
       "U_ij*Ni(x)*S(y)"
      ]
     },
     "metadata": {},
     "output_type": "display_data"
    },
    {
     "name": "stdout",
     "output_type": "stream",
     "text": [
      "V0 = \n"
     ]
    },
    {
     "data": {
      "text/latex": [
       "$\\displaystyle V_{ij} C{\\left(y \\right)} \\operatorname{Ni}{\\left(x \\right)}$"
      ],
      "text/plain": [
       "V_ij*C(y)*Ni(x)"
      ]
     },
     "metadata": {},
     "output_type": "display_data"
    },
    {
     "name": "stdout",
     "output_type": "stream",
     "text": [
      "W0 = \n"
     ]
    },
    {
     "data": {
      "text/latex": [
       "$\\displaystyle \\left(W_{ij} \\operatorname{Fi}{\\left(x \\right)} + \\operatorname{Hi}{\\left(x \\right)} \\frac{d}{d x} W_{ij}\\right) S{\\left(y \\right)}$"
      ],
      "text/plain": [
       "(W_ij*Fi(x) + Hi(x)*Derivative(W_ij, x))*S(y)"
      ]
     },
     "metadata": {},
     "output_type": "display_data"
    },
    {
     "name": "stdout",
     "output_type": "stream",
     "text": [
      "THETA = \n"
     ]
    },
    {
     "data": {
      "text/latex": [
       "$\\displaystyle \\theta_{ij} \\operatorname{Ni}{\\left(x \\right)} S{\\left(y \\right)}$"
      ],
      "text/plain": [
       "THETA_ij*Ni(x)*S(y)"
      ]
     },
     "metadata": {},
     "output_type": "display_data"
    },
    {
     "name": "stdout",
     "output_type": "stream",
     "text": [
      "PHI_Z = \n"
     ]
    },
    {
     "data": {
      "text/latex": [
       "$\\displaystyle \\phi_{ij} \\operatorname{Ni}{\\left(x \\right)} S{\\left(y \\right)}$"
      ],
      "text/plain": [
       "PHI_ij*Ni(x)*S(y)"
      ]
     },
     "metadata": {},
     "output_type": "display_data"
    }
   ],
   "source": [
    "U0 = Ni*S*U_ij\n",
    "V0 = Ni*C*V_ij\n",
    "W0 = (Fi*W_ij+Hi*Derivative(W_ij, x))*S\n",
    "THETA = Ni*S*THETA_ij\n",
    "PHI_Z = Ni*S*PHI_ij\n",
    "\n",
    "print(\"U0 = \")\n",
    "display(U0)\n",
    "print(\"V0 = \")\n",
    "display(V0)\n",
    "print(\"W0 = \")\n",
    "display(W0)\n",
    "print(\"THETA = \")\n",
    "display(THETA)\n",
    "print(\"PHI_Z = \")\n",
    "display(PHI_Z)"
   ]
  },
  {
   "cell_type": "markdown",
   "id": "82641c17",
   "metadata": {},
   "source": [
    "## Displacement Fields"
   ]
  },
  {
   "cell_type": "code",
   "execution_count": 6,
   "id": "77d4823d",
   "metadata": {},
   "outputs": [
    {
     "name": "stdout",
     "output_type": "stream",
     "text": [
      "u(x, y) = \n"
     ]
    },
    {
     "data": {
      "text/latex": [
       "$\\displaystyle \\frac{\\pi^{2} \\theta_{ij} m^{2} S{\\left(y \\right)} f{\\left(z \\right)} \\int \\operatorname{Ni}{\\left(x \\right)}\\, dx}{a^{2}} + U_{ij} \\operatorname{Ni}{\\left(x \\right)} S{\\left(y \\right)} - z \\left(W_{ij} \\frac{d}{d x} \\operatorname{Fi}{\\left(x \\right)} + \\frac{d}{d x} W_{ij} \\frac{d}{d x} \\operatorname{Hi}{\\left(x \\right)}\\right) S{\\left(y \\right)}$"
      ],
      "text/plain": [
       "pi**2*THETA_ij*m**2*S(y)*f(z)*Integral(Ni(x), x)/a**2 + U_ij*Ni(x)*S(y) - z*(W_ij*Derivative(Fi(x), x) + Derivative(W_ij, x)*Derivative(Hi(x), x))*S(y)"
      ]
     },
     "metadata": {},
     "output_type": "display_data"
    }
   ],
   "source": [
    "u = U0 - z*diff(W0, x) + k1*f*integrate(THETA, x)\n",
    "\n",
    "print(\"u(x, y) = \")\n",
    "display(u)"
   ]
  },
  {
   "cell_type": "code",
   "execution_count": 7,
   "id": "43dbdddd",
   "metadata": {},
   "outputs": [
    {
     "name": "stdout",
     "output_type": "stream",
     "text": [
      "v(x, y) = \n"
     ]
    },
    {
     "data": {
      "text/latex": [
       "$\\displaystyle \\frac{\\pi^{2} \\theta_{ij} m^{2} \\operatorname{Ni}{\\left(x \\right)} f{\\left(z \\right)} \\int S{\\left(y \\right)}\\, dy}{b^{2}} + V_{ij} C{\\left(y \\right)} \\operatorname{Ni}{\\left(x \\right)} - z \\left(W_{ij} \\operatorname{Fi}{\\left(x \\right)} + \\operatorname{Hi}{\\left(x \\right)} \\frac{d}{d x} W_{ij}\\right) \\frac{d}{d y} S{\\left(y \\right)}$"
      ],
      "text/plain": [
       "pi**2*THETA_ij*m**2*Ni(x)*f(z)*Integral(S(y), y)/b**2 + V_ij*C(y)*Ni(x) - z*(W_ij*Fi(x) + Hi(x)*Derivative(W_ij, x))*Derivative(S(y), y)"
      ]
     },
     "metadata": {},
     "output_type": "display_data"
    }
   ],
   "source": [
    "v = V0 - z*diff(W0, y) + k2*f*integrate(THETA, y)\n",
    "\n",
    "print(\"v(x, y) = \")\n",
    "display(v)"
   ]
  },
  {
   "cell_type": "code",
   "execution_count": 8,
   "id": "5c2723e8",
   "metadata": {},
   "outputs": [
    {
     "name": "stdout",
     "output_type": "stream",
     "text": [
      "w(x, y) = \n"
     ]
    },
    {
     "data": {
      "text/latex": [
       "$\\displaystyle \\phi_{ij} \\operatorname{Ni}{\\left(x \\right)} S{\\left(y \\right)} \\int f{\\left(z \\right)}\\, dz + \\left(W_{ij} \\operatorname{Fi}{\\left(x \\right)} + \\operatorname{Hi}{\\left(x \\right)} \\frac{d}{d x} W_{ij}\\right) S{\\left(y \\right)}$"
      ],
      "text/plain": [
       "PHI_ij*Ni(x)*S(y)*Integral(f(z), z) + (W_ij*Fi(x) + Hi(x)*Derivative(W_ij, x))*S(y)"
      ]
     },
     "metadata": {},
     "output_type": "display_data"
    }
   ],
   "source": [
    "w = W0 + g*PHI_Z\n",
    "\n",
    "print(\"w(x, y) = \")\n",
    "display(w)"
   ]
  },
  {
   "cell_type": "markdown",
   "id": "4ac32736",
   "metadata": {},
   "source": [
    "## Strain Matrix"
   ]
  },
  {
   "cell_type": "code",
   "execution_count": 9,
   "id": "2ee09924",
   "metadata": {},
   "outputs": [
    {
     "data": {
      "text/latex": [
       "$\\displaystyle \\frac{\\pi^{2} \\theta_{ij} m^{2} \\operatorname{Ni}{\\left(x \\right)} S{\\left(y \\right)} f{\\left(z \\right)}}{a^{2}} + U_{ij} S{\\left(y \\right)} \\frac{d}{d x} \\operatorname{Ni}{\\left(x \\right)} - z \\left(W_{ij} \\frac{d^{2}}{d x^{2}} \\operatorname{Fi}{\\left(x \\right)} + \\frac{d}{d x} W_{ij} \\frac{d^{2}}{d x^{2}} \\operatorname{Hi}{\\left(x \\right)}\\right) S{\\left(y \\right)}$"
      ],
      "text/plain": [
       "pi**2*THETA_ij*m**2*Ni(x)*S(y)*f(z)/a**2 + U_ij*S(y)*Derivative(Ni(x), x) - z*(W_ij*Derivative(Fi(x), (x, 2)) + Derivative(W_ij, x)*Derivative(Hi(x), (x, 2)))*S(y)"
      ]
     },
     "metadata": {},
     "output_type": "display_data"
    }
   ],
   "source": [
    "epsilon_x = diff(U0, x) + z*(-1)*diff(W0, x, x) + f*k1*THETA\n",
    "display(epsilon_x)"
   ]
  },
  {
   "cell_type": "code",
   "execution_count": 10,
   "id": "4b1e343d",
   "metadata": {},
   "outputs": [
    {
     "data": {
      "text/latex": [
       "$\\displaystyle \\frac{\\pi^{2} \\theta_{ij} m^{2} \\operatorname{Ni}{\\left(x \\right)} S{\\left(y \\right)} f{\\left(z \\right)}}{b^{2}} + V_{ij} \\operatorname{Ni}{\\left(x \\right)} \\frac{d}{d y} C{\\left(y \\right)} - z \\left(W_{ij} \\operatorname{Fi}{\\left(x \\right)} + \\operatorname{Hi}{\\left(x \\right)} \\frac{d}{d x} W_{ij}\\right) \\frac{d^{2}}{d y^{2}} S{\\left(y \\right)}$"
      ],
      "text/plain": [
       "pi**2*THETA_ij*m**2*Ni(x)*S(y)*f(z)/b**2 + V_ij*Ni(x)*Derivative(C(y), y) - z*(W_ij*Fi(x) + Hi(x)*Derivative(W_ij, x))*Derivative(S(y), (y, 2))"
      ]
     },
     "metadata": {},
     "output_type": "display_data"
    }
   ],
   "source": [
    "epsilon_y = diff(V0, y) + z*(-1)*diff(W0, y, y) + f*k2*THETA\n",
    "display(epsilon_y)"
   ]
  },
  {
   "cell_type": "code",
   "execution_count": 11,
   "id": "9a053feb",
   "metadata": {},
   "outputs": [
    {
     "data": {
      "text/latex": [
       "$\\displaystyle U_{ij} \\operatorname{Ni}{\\left(x \\right)} \\frac{d}{d y} S{\\left(y \\right)} + V_{ij} C{\\left(y \\right)} \\frac{d}{d x} \\operatorname{Ni}{\\left(x \\right)} - 2 z \\left(W_{ij} \\operatorname{Fi}{\\left(x \\right)} + \\operatorname{Hi}{\\left(x \\right)} \\frac{d}{d x} W_{ij}\\right) \\left(W_{ij} \\frac{d}{d x} \\operatorname{Fi}{\\left(x \\right)} + \\frac{d}{d x} W_{ij} \\frac{d}{d x} \\operatorname{Hi}{\\left(x \\right)}\\right) S{\\left(y \\right)} \\frac{d}{d y} S{\\left(y \\right)} + \\left(\\frac{\\pi^{2} \\theta_{ij} m^{2} \\frac{d}{d x} \\operatorname{Ni}{\\left(x \\right)} \\int S{\\left(y \\right)}\\, dy}{b^{2}} + \\frac{\\pi^{2} \\theta_{ij} m^{2} \\frac{d}{d y} S{\\left(y \\right)} \\int \\operatorname{Ni}{\\left(x \\right)}\\, dx}{a^{2}}\\right) f{\\left(z \\right)}$"
      ],
      "text/plain": [
       "U_ij*Ni(x)*Derivative(S(y), y) + V_ij*C(y)*Derivative(Ni(x), x) - 2*z*(W_ij*Fi(x) + Hi(x)*Derivative(W_ij, x))*(W_ij*Derivative(Fi(x), x) + Derivative(W_ij, x)*Derivative(Hi(x), x))*S(y)*Derivative(S(y), y) + (pi**2*THETA_ij*m**2*Derivative(Ni(x), x)*Integral(S(y), y)/b**2 + pi**2*THETA_ij*m**2*Derivative(S(y), y)*Integral(Ni(x), x)/a**2)*f(z)"
      ]
     },
     "metadata": {},
     "output_type": "display_data"
    }
   ],
   "source": [
    "gama_xy = diff(U0, y) + diff(V0, x) + z*(-2)*diff(W0, x)*diff(W0, y) + f*(k1*diff(integrate(THETA, x), y) + k2*diff(integrate(THETA, y), x))\n",
    "display(gama_xy)"
   ]
  },
  {
   "cell_type": "code",
   "execution_count": 12,
   "id": "c6e96812",
   "metadata": {},
   "outputs": [
    {
     "data": {
      "text/latex": [
       "$\\displaystyle \\left(\\phi_{ij} \\operatorname{Ni}{\\left(x \\right)} \\frac{d}{d y} S{\\left(y \\right)} + \\frac{\\pi^{2} \\theta_{ij} m^{2} \\operatorname{Ni}{\\left(x \\right)} \\int S{\\left(y \\right)}\\, dy}{b^{2}}\\right) \\int f{\\left(z \\right)}\\, dz$"
      ],
      "text/plain": [
       "(PHI_ij*Ni(x)*Derivative(S(y), y) + pi**2*THETA_ij*m**2*Ni(x)*Integral(S(y), y)/b**2)*Integral(f(z), z)"
      ]
     },
     "metadata": {},
     "output_type": "display_data"
    }
   ],
   "source": [
    "gama_yz = g*(k2*integrate(THETA, y) + diff(PHI_Z, y))\n",
    "display(gama_yz)"
   ]
  },
  {
   "cell_type": "code",
   "execution_count": 13,
   "id": "af2fd584",
   "metadata": {},
   "outputs": [
    {
     "data": {
      "text/latex": [
       "$\\displaystyle \\left(\\phi_{ij} S{\\left(y \\right)} \\frac{d}{d x} \\operatorname{Ni}{\\left(x \\right)} + \\frac{\\pi^{2} \\theta_{ij} m^{2} S{\\left(y \\right)} \\int \\operatorname{Ni}{\\left(x \\right)}\\, dx}{a^{2}}\\right) \\int f{\\left(z \\right)}\\, dz$"
      ],
      "text/plain": [
       "(PHI_ij*S(y)*Derivative(Ni(x), x) + pi**2*THETA_ij*m**2*S(y)*Integral(Ni(x), x)/a**2)*Integral(f(z), z)"
      ]
     },
     "metadata": {},
     "output_type": "display_data"
    }
   ],
   "source": [
    "gama_xz = g*(k1*integrate(THETA, x)+ diff(PHI_Z, x))\n",
    "display(gama_xz)"
   ]
  },
  {
   "cell_type": "code",
   "execution_count": 14,
   "id": "5a3ec500",
   "metadata": {},
   "outputs": [
    {
     "data": {
      "text/latex": [
       "$\\displaystyle \\phi_{ij} \\operatorname{Ni}{\\left(x \\right)} S{\\left(y \\right)} f{\\left(z \\right)}$"
      ],
      "text/plain": [
       "PHI_ij*Ni(x)*S(y)*f(z)"
      ]
     },
     "metadata": {},
     "output_type": "display_data"
    }
   ],
   "source": [
    "epsilon_z = diff(g, z) * PHI_Z\n",
    "display(epsilon_z)"
   ]
  },
  {
   "cell_type": "code",
   "execution_count": null,
   "id": "588f9034",
   "metadata": {},
   "outputs": [],
   "source": []
  }
 ],
 "metadata": {
  "kernelspec": {
   "display_name": "Python 3 (ipykernel)",
   "language": "python",
   "name": "python3"
  },
  "language_info": {
   "codemirror_mode": {
    "name": "ipython",
    "version": 3
   },
   "file_extension": ".py",
   "mimetype": "text/x-python",
   "name": "python",
   "nbconvert_exporter": "python",
   "pygments_lexer": "ipython3",
   "version": "3.7.0"
  }
 },
 "nbformat": 4,
 "nbformat_minor": 5
}
