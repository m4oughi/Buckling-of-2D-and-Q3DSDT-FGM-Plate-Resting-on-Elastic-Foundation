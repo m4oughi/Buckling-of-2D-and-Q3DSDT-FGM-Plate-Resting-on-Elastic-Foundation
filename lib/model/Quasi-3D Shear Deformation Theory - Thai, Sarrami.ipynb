{
 "cells": [
  {
   "cell_type": "code",
   "execution_count": 1,
   "id": "e71a96e3",
   "metadata": {},
   "outputs": [],
   "source": [
    "from sympy import *\n",
    "from IPython.display import display"
   ]
  },
  {
   "cell_type": "code",
   "execution_count": 2,
   "id": "36014be5",
   "metadata": {},
   "outputs": [],
   "source": [
    "a, b, h = symbols(\"a b h\") #a->width b->length h->height\n",
    "x, y, z = symbols(\"x y z\")"
   ]
  },
  {
   "cell_type": "code",
   "execution_count": 3,
   "id": "e6a45a76",
   "metadata": {},
   "outputs": [],
   "source": [
    "Ni = Function(\"Ni\")(x)\n",
    "Fi = Function(\"Fi\")(x)\n",
    "Hi = Function(\"Hi\")(x)\n",
    "S = Function(\"S\")(y)\n",
    "C = Function(\"C\")(y)\n",
    "f = Function('f')(z)\n",
    "g = 1-diff(f, z)"
   ]
  },
  {
   "cell_type": "code",
   "execution_count": 4,
   "id": "6911d998",
   "metadata": {},
   "outputs": [],
   "source": [
    "U_ij, V_ij, Wb_ij, Ws_ij, PHI_ij = symbols(\"U_ij V_ij Wb_ij Ws_ij PHI_ij\")"
   ]
  },
  {
   "cell_type": "code",
   "execution_count": 5,
   "id": "3ab699d1",
   "metadata": {},
   "outputs": [
    {
     "name": "stdout",
     "output_type": "stream",
     "text": [
      "U0 = \n"
     ]
    },
    {
     "data": {
      "text/latex": [
       "$\\displaystyle U_{ij} \\operatorname{Ni}{\\left(x \\right)} S{\\left(y \\right)}$"
      ],
      "text/plain": [
       "U_ij*Ni(x)*S(y)"
      ]
     },
     "metadata": {},
     "output_type": "display_data"
    },
    {
     "name": "stdout",
     "output_type": "stream",
     "text": [
      "V0 = \n"
     ]
    },
    {
     "data": {
      "text/latex": [
       "$\\displaystyle V_{ij} C{\\left(y \\right)} \\operatorname{Ni}{\\left(x \\right)}$"
      ],
      "text/plain": [
       "V_ij*C(y)*Ni(x)"
      ]
     },
     "metadata": {},
     "output_type": "display_data"
    },
    {
     "name": "stdout",
     "output_type": "stream",
     "text": [
      "Wb = \n"
     ]
    },
    {
     "data": {
      "text/latex": [
       "$\\displaystyle \\left(Wb_{ij} \\operatorname{Fi}{\\left(x \\right)} + \\operatorname{Hi}{\\left(x \\right)} \\frac{d}{d x} Wb_{ij}\\right) S{\\left(y \\right)}$"
      ],
      "text/plain": [
       "(Wb_ij*Fi(x) + Hi(x)*Derivative(Wb_ij, x))*S(y)"
      ]
     },
     "metadata": {},
     "output_type": "display_data"
    },
    {
     "name": "stdout",
     "output_type": "stream",
     "text": [
      "Ws = \n"
     ]
    },
    {
     "data": {
      "text/latex": [
       "$\\displaystyle \\left(Ws_{ij} \\operatorname{Fi}{\\left(x \\right)} + \\operatorname{Hi}{\\left(x \\right)} \\frac{d}{d x} Ws_{ij}\\right) S{\\left(y \\right)}$"
      ],
      "text/plain": [
       "(Ws_ij*Fi(x) + Hi(x)*Derivative(Ws_ij, x))*S(y)"
      ]
     },
     "metadata": {},
     "output_type": "display_data"
    },
    {
     "name": "stdout",
     "output_type": "stream",
     "text": [
      "PHI_Z = \n"
     ]
    },
    {
     "data": {
      "text/latex": [
       "$\\displaystyle \\left(\\phi_{ij} \\operatorname{Fi}{\\left(x \\right)} + \\operatorname{Hi}{\\left(x \\right)} \\frac{d}{d x} \\phi_{ij}\\right) S{\\left(y \\right)}$"
      ],
      "text/plain": [
       "(PHI_ij*Fi(x) + Hi(x)*Derivative(PHI_ij, x))*S(y)"
      ]
     },
     "metadata": {},
     "output_type": "display_data"
    }
   ],
   "source": [
    "U0 = Ni*S*U_ij\n",
    "V0 = Ni*C*V_ij\n",
    "Wb = (Fi*Wb_ij+Hi*Derivative(Wb_ij, x))*S\n",
    "Ws = (Fi*Ws_ij+Hi*Derivative(Ws_ij, x))*S\n",
    "PHI_Z = (Fi*PHI_ij+Hi*Derivative(PHI_ij, x))*S\n",
    "\n",
    "print(\"U0 = \")\n",
    "display(U0)\n",
    "print(\"V0 = \")\n",
    "display(V0)\n",
    "print(\"Wb = \")\n",
    "display(Wb)\n",
    "print(\"Ws = \")\n",
    "display(Ws)\n",
    "print(\"PHI_Z = \")\n",
    "display(PHI_Z)"
   ]
  },
  {
   "cell_type": "code",
   "execution_count": 6,
   "id": "b1223a35",
   "metadata": {},
   "outputs": [
    {
     "name": "stdout",
     "output_type": "stream",
     "text": [
      "u(x, y) = \n"
     ]
    },
    {
     "data": {
      "text/latex": [
       "$\\displaystyle U_{ij} \\operatorname{Ni}{\\left(x \\right)} S{\\left(y \\right)} - z \\left(Wb_{ij} \\frac{d}{d x} \\operatorname{Fi}{\\left(x \\right)} + \\frac{d}{d x} Wb_{ij} \\frac{d}{d x} \\operatorname{Hi}{\\left(x \\right)}\\right) S{\\left(y \\right)} - \\left(Ws_{ij} \\frac{d}{d x} \\operatorname{Fi}{\\left(x \\right)} + \\frac{d}{d x} Ws_{ij} \\frac{d}{d x} \\operatorname{Hi}{\\left(x \\right)}\\right) S{\\left(y \\right)} f{\\left(z \\right)}$"
      ],
      "text/plain": [
       "U_ij*Ni(x)*S(y) - z*(Wb_ij*Derivative(Fi(x), x) + Derivative(Wb_ij, x)*Derivative(Hi(x), x))*S(y) - (Ws_ij*Derivative(Fi(x), x) + Derivative(Ws_ij, x)*Derivative(Hi(x), x))*S(y)*f(z)"
      ]
     },
     "metadata": {},
     "output_type": "display_data"
    }
   ],
   "source": [
    "u = U0 - z*diff(Wb, x) - f*diff(Ws, x)\n",
    "print(\"u(x, y) = \")\n",
    "display(u)"
   ]
  },
  {
   "cell_type": "code",
   "execution_count": 7,
   "id": "167d301c",
   "metadata": {},
   "outputs": [
    {
     "name": "stdout",
     "output_type": "stream",
     "text": [
      "v(x, y) = \n"
     ]
    },
    {
     "data": {
      "text/latex": [
       "$\\displaystyle V_{ij} C{\\left(y \\right)} \\operatorname{Ni}{\\left(x \\right)} - z \\left(Wb_{ij} \\operatorname{Fi}{\\left(x \\right)} + \\operatorname{Hi}{\\left(x \\right)} \\frac{d}{d x} Wb_{ij}\\right) \\frac{d}{d y} S{\\left(y \\right)} - \\left(Ws_{ij} \\operatorname{Fi}{\\left(x \\right)} + \\operatorname{Hi}{\\left(x \\right)} \\frac{d}{d x} Ws_{ij}\\right) f{\\left(z \\right)} \\frac{d}{d y} S{\\left(y \\right)}$"
      ],
      "text/plain": [
       "V_ij*C(y)*Ni(x) - z*(Wb_ij*Fi(x) + Hi(x)*Derivative(Wb_ij, x))*Derivative(S(y), y) - (Ws_ij*Fi(x) + Hi(x)*Derivative(Ws_ij, x))*f(z)*Derivative(S(y), y)"
      ]
     },
     "metadata": {},
     "output_type": "display_data"
    }
   ],
   "source": [
    "v = V0 - z*diff(Wb, y) - f*diff(Ws, y)\n",
    "\n",
    "print(\"v(x, y) = \")\n",
    "display(v)"
   ]
  },
  {
   "cell_type": "code",
   "execution_count": 8,
   "id": "567f5d2a",
   "metadata": {},
   "outputs": [
    {
     "name": "stdout",
     "output_type": "stream",
     "text": [
      "w(x, y) = \n"
     ]
    },
    {
     "data": {
      "text/latex": [
       "$\\displaystyle \\left(1 - \\frac{d}{d z} f{\\left(z \\right)}\\right) \\left(\\phi_{ij} \\operatorname{Fi}{\\left(x \\right)} + \\operatorname{Hi}{\\left(x \\right)} \\frac{d}{d x} \\phi_{ij}\\right) S{\\left(y \\right)} + \\left(Wb_{ij} \\operatorname{Fi}{\\left(x \\right)} + \\operatorname{Hi}{\\left(x \\right)} \\frac{d}{d x} Wb_{ij}\\right) S{\\left(y \\right)} + \\left(Ws_{ij} \\operatorname{Fi}{\\left(x \\right)} + \\operatorname{Hi}{\\left(x \\right)} \\frac{d}{d x} Ws_{ij}\\right) S{\\left(y \\right)}$"
      ],
      "text/plain": [
       "(1 - Derivative(f(z), z))*(PHI_ij*Fi(x) + Hi(x)*Derivative(PHI_ij, x))*S(y) + (Wb_ij*Fi(x) + Hi(x)*Derivative(Wb_ij, x))*S(y) + (Ws_ij*Fi(x) + Hi(x)*Derivative(Ws_ij, x))*S(y)"
      ]
     },
     "metadata": {},
     "output_type": "display_data"
    }
   ],
   "source": [
    "w = Wb + Ws + g*PHI_Z\n",
    "print(\"w(x, y) = \")\n",
    "display(w)"
   ]
  },
  {
   "cell_type": "markdown",
   "id": "ca01d3da",
   "metadata": {},
   "source": [
    "## Strain Matrix"
   ]
  },
  {
   "cell_type": "code",
   "execution_count": 9,
   "id": "9cdfbe75",
   "metadata": {},
   "outputs": [
    {
     "data": {
      "text/latex": [
       "$\\displaystyle U_{ij} S{\\left(y \\right)} \\frac{d}{d x} \\operatorname{Ni}{\\left(x \\right)} - z \\left(Wb_{ij} \\frac{d^{2}}{d x^{2}} \\operatorname{Fi}{\\left(x \\right)} + \\frac{d}{d x} Wb_{ij} \\frac{d^{2}}{d x^{2}} \\operatorname{Hi}{\\left(x \\right)}\\right) S{\\left(y \\right)} - \\left(Ws_{ij} \\frac{d^{2}}{d x^{2}} \\operatorname{Fi}{\\left(x \\right)} + \\frac{d}{d x} Ws_{ij} \\frac{d^{2}}{d x^{2}} \\operatorname{Hi}{\\left(x \\right)}\\right) S{\\left(y \\right)} f{\\left(z \\right)}$"
      ],
      "text/plain": [
       "U_ij*S(y)*Derivative(Ni(x), x) - z*(Wb_ij*Derivative(Fi(x), (x, 2)) + Derivative(Wb_ij, x)*Derivative(Hi(x), (x, 2)))*S(y) - (Ws_ij*Derivative(Fi(x), (x, 2)) + Derivative(Ws_ij, x)*Derivative(Hi(x), (x, 2)))*S(y)*f(z)"
      ]
     },
     "metadata": {},
     "output_type": "display_data"
    }
   ],
   "source": [
    "epsilon_x = diff(U0, x) + z*(-1)*diff(Wb, x, x) + f*(-1)*diff(Ws, x, x)\n",
    "display(epsilon_x)"
   ]
  },
  {
   "cell_type": "code",
   "execution_count": 10,
   "id": "fe8754f4",
   "metadata": {},
   "outputs": [
    {
     "data": {
      "text/latex": [
       "$\\displaystyle V_{ij} \\operatorname{Ni}{\\left(x \\right)} \\frac{d}{d y} C{\\left(y \\right)} - z \\left(Wb_{ij} \\operatorname{Fi}{\\left(x \\right)} + \\operatorname{Hi}{\\left(x \\right)} \\frac{d}{d x} Wb_{ij}\\right) \\frac{d^{2}}{d y^{2}} S{\\left(y \\right)} - \\left(Ws_{ij} \\operatorname{Fi}{\\left(x \\right)} + \\operatorname{Hi}{\\left(x \\right)} \\frac{d}{d x} Ws_{ij}\\right) f{\\left(z \\right)} \\frac{d^{2}}{d y^{2}} S{\\left(y \\right)}$"
      ],
      "text/plain": [
       "V_ij*Ni(x)*Derivative(C(y), y) - z*(Wb_ij*Fi(x) + Hi(x)*Derivative(Wb_ij, x))*Derivative(S(y), (y, 2)) - (Ws_ij*Fi(x) + Hi(x)*Derivative(Ws_ij, x))*f(z)*Derivative(S(y), (y, 2))"
      ]
     },
     "metadata": {},
     "output_type": "display_data"
    }
   ],
   "source": [
    "epsilon_y = diff(V0, y) + z*(-1)*diff(Wb, y, y) + f*(-1)*diff(Ws, y, y)\n",
    "display(epsilon_y)"
   ]
  },
  {
   "cell_type": "code",
   "execution_count": 11,
   "id": "415aa926",
   "metadata": {},
   "outputs": [
    {
     "data": {
      "text/latex": [
       "$\\displaystyle U_{ij} \\operatorname{Ni}{\\left(x \\right)} \\frac{d}{d y} S{\\left(y \\right)} + V_{ij} C{\\left(y \\right)} \\frac{d}{d x} \\operatorname{Ni}{\\left(x \\right)} - 2 z \\left(Wb_{ij} \\frac{d}{d x} \\operatorname{Fi}{\\left(x \\right)} + \\frac{d}{d x} Wb_{ij} \\frac{d}{d x} \\operatorname{Hi}{\\left(x \\right)}\\right) \\frac{d}{d y} S{\\left(y \\right)} - 2 \\left(Ws_{ij} \\frac{d}{d x} \\operatorname{Fi}{\\left(x \\right)} + \\frac{d}{d x} Ws_{ij} \\frac{d}{d x} \\operatorname{Hi}{\\left(x \\right)}\\right) f{\\left(z \\right)} \\frac{d}{d y} S{\\left(y \\right)}$"
      ],
      "text/plain": [
       "U_ij*Ni(x)*Derivative(S(y), y) + V_ij*C(y)*Derivative(Ni(x), x) - 2*z*(Wb_ij*Derivative(Fi(x), x) + Derivative(Wb_ij, x)*Derivative(Hi(x), x))*Derivative(S(y), y) - 2*(Ws_ij*Derivative(Fi(x), x) + Derivative(Ws_ij, x)*Derivative(Hi(x), x))*f(z)*Derivative(S(y), y)"
      ]
     },
     "metadata": {},
     "output_type": "display_data"
    }
   ],
   "source": [
    "gama_xy = (diff(U0, y) + diff(V0, x)) + z*(-2)*diff(Wb, x, y) + f*(-2)*diff(Ws, x, y)\n",
    "display(gama_xy)"
   ]
  },
  {
   "cell_type": "code",
   "execution_count": 12,
   "id": "c68da642",
   "metadata": {},
   "outputs": [
    {
     "data": {
      "text/latex": [
       "$\\displaystyle \\left(1 - \\frac{d}{d z} f{\\left(z \\right)}\\right) \\left(\\left(\\phi_{ij} \\operatorname{Fi}{\\left(x \\right)} + \\operatorname{Hi}{\\left(x \\right)} \\frac{d}{d x} \\phi_{ij}\\right) \\frac{d}{d y} S{\\left(y \\right)} + \\left(Ws_{ij} \\operatorname{Fi}{\\left(x \\right)} + \\operatorname{Hi}{\\left(x \\right)} \\frac{d}{d x} Ws_{ij}\\right) \\frac{d}{d y} S{\\left(y \\right)}\\right)$"
      ],
      "text/plain": [
       "(1 - Derivative(f(z), z))*((PHI_ij*Fi(x) + Hi(x)*Derivative(PHI_ij, x))*Derivative(S(y), y) + (Ws_ij*Fi(x) + Hi(x)*Derivative(Ws_ij, x))*Derivative(S(y), y))"
      ]
     },
     "metadata": {},
     "output_type": "display_data"
    }
   ],
   "source": [
    "gama_yz = g*(diff(Ws, y) + diff(PHI_Z, y))\n",
    "display(gama_yz)"
   ]
  },
  {
   "cell_type": "code",
   "execution_count": 13,
   "id": "8be59986",
   "metadata": {},
   "outputs": [
    {
     "data": {
      "text/latex": [
       "$\\displaystyle \\left(1 - \\frac{d}{d z} f{\\left(z \\right)}\\right) \\left(\\left(\\phi_{ij} \\frac{d}{d x} \\operatorname{Fi}{\\left(x \\right)} + \\frac{d}{d x} \\phi_{ij} \\frac{d}{d x} \\operatorname{Hi}{\\left(x \\right)}\\right) S{\\left(y \\right)} + \\left(Ws_{ij} \\frac{d}{d x} \\operatorname{Fi}{\\left(x \\right)} + \\frac{d}{d x} Ws_{ij} \\frac{d}{d x} \\operatorname{Hi}{\\left(x \\right)}\\right) S{\\left(y \\right)}\\right)$"
      ],
      "text/plain": [
       "(1 - Derivative(f(z), z))*((PHI_ij*Derivative(Fi(x), x) + Derivative(PHI_ij, x)*Derivative(Hi(x), x))*S(y) + (Ws_ij*Derivative(Fi(x), x) + Derivative(Ws_ij, x)*Derivative(Hi(x), x))*S(y))"
      ]
     },
     "metadata": {},
     "output_type": "display_data"
    }
   ],
   "source": [
    "gama_xz = g*(diff(Ws, x) + diff(PHI_Z, x))\n",
    "display(gama_xz)"
   ]
  },
  {
   "cell_type": "code",
   "execution_count": 14,
   "id": "1836536a",
   "metadata": {},
   "outputs": [
    {
     "data": {
      "text/latex": [
       "$\\displaystyle - \\left(\\phi_{ij} \\operatorname{Fi}{\\left(x \\right)} + \\operatorname{Hi}{\\left(x \\right)} \\frac{d}{d x} \\phi_{ij}\\right) S{\\left(y \\right)} \\frac{d^{2}}{d z^{2}} f{\\left(z \\right)}$"
      ],
      "text/plain": [
       "-(PHI_ij*Fi(x) + Hi(x)*Derivative(PHI_ij, x))*S(y)*Derivative(f(z), (z, 2))"
      ]
     },
     "metadata": {},
     "output_type": "display_data"
    }
   ],
   "source": [
    "epsilon_z = diff(g, z) * PHI_Z\n",
    "display(epsilon_z)"
   ]
  }
 ],
 "metadata": {
  "kernelspec": {
   "display_name": "Python 3 (ipykernel)",
   "language": "python",
   "name": "python3"
  },
  "language_info": {
   "codemirror_mode": {
    "name": "ipython",
    "version": 3
   },
   "file_extension": ".py",
   "mimetype": "text/x-python",
   "name": "python",
   "nbconvert_exporter": "python",
   "pygments_lexer": "ipython3",
   "version": "3.7.0"
  }
 },
 "nbformat": 4,
 "nbformat_minor": 5
}
